{
 "cells": [
  {
   "cell_type": "code",
   "execution_count": 1,
   "metadata": {},
   "outputs": [],
   "source": [
    "class Arbre:\n",
    "    def __init__(self, etiquette):\n",
    "        self.etiquette = etiquette\n",
    "        self.gauche = None\n",
    "        self.droit = None\n",
    "\n",
    "    def ajout_gauche(self, sousarbre): # mutateur\n",
    "        self.gauche = sousarbre\n",
    "\n",
    "    def ajout_droit(self, sousarbre): # mutateur\n",
    "        self.droit = sousarbre  \n",
    "\n",
    "    def get_gauche(self): # accesseur\n",
    "        return self.gauche\n",
    "\n",
    "    def get_droit(self): # accesseur\n",
    "        return self.droit\n",
    "\n",
    "    def get_etiquette(self): # accesseur\n",
    "        return self.etiquette\n",
    "    \n",
    "    def affiche(self):\n",
    "        \"\"\"permet d'afficher un arbre\"\"\"\n",
    "        if self==None:\n",
    "            return None\n",
    "        else :\n",
    "            return [self.etiquette,Arbre.affiche(self.gauche),Arbre.affiche(self.droit)]"
   ]
  },
  {
   "cell_type": "code",
   "execution_count": 3,
   "metadata": {},
   "outputs": [
    {
     "data": {
      "text/plain": [
       "[4,\n",
       " [3, [6, None, None], None],\n",
       " [1, [2, None, None], [7, [9, None, None], None]]]"
      ]
     },
     "execution_count": 3,
     "metadata": {},
     "output_type": "execute_result"
    }
   ],
   "source": [
    "a = Arbre(4)\n",
    "a.ajout_gauche(Arbre(3))\n",
    "a.ajout_droit(Arbre(1))\n",
    "a.get_droit().ajout_gauche(Arbre(2))\n",
    "a.get_droit().ajout_droit(Arbre(7))\n",
    "a.get_gauche().ajout_gauche(Arbre(6))\n",
    "a.get_droit().get_droit().ajout_gauche(Arbre(9))\n",
    "a.affiche()"
   ]
  },
  {
   "cell_type": "code",
   "execution_count": 5,
   "metadata": {},
   "outputs": [
    {
     "name": "stdout",
     "output_type": "stream",
     "text": [
      "2\n"
     ]
    }
   ],
   "source": [
    "print(a.get_droit().get_gauche().get_etiquette())"
   ]
  },
  {
   "cell_type": "code",
   "execution_count": 6,
   "metadata": {},
   "outputs": [],
   "source": [
    "class Arbre:\n",
    "    def __init__(self,valeur):\n",
    "        \"\"\"Initialisation de l'arbre racine + sous-arbre gauche et sous-arbre droit\"\"\"\n",
    "        self.v=valeur\n",
    "        self.gauche=None\n",
    "        self.droit=None\n",
    "        \n",
    "    def ajout_gauche(self,val):\n",
    "        \"\"\"On ajoute valeur dans le sous-arbre gauche sous la forme [val,None,None]\"\"\"\n",
    "        self.gauche=Arbre(val)\n",
    "        \n",
    "    def ajout_droit(self,val):\n",
    "        \"\"\" On ajoute valeur dans le sous-arbre droit sous la forme [val,None,None]\"\"\"\n",
    "        self.droit=Arbre(val)\n",
    "\n",
    "    def get_gauche(self):\n",
    "        return self.gauche\n",
    "\n",
    "    def get_droit(self):\n",
    "        return self.droit\n",
    "    \n",
    "    \n",
    "    def get_valeur(self):\n",
    "        if self==None:\n",
    "            return None\n",
    "        else:\n",
    "            return self.v\n",
    "        \n",
    "    def affiche(self):\n",
    "        \"\"\"permet d'afficher un arbre\"\"\"\n",
    "        if self==None:\n",
    "            return None\n",
    "        else :\n",
    "            return [self.v,Arbre.affiche(self.gauche),Arbre.affiche(self.droit)]"
   ]
  },
  {
   "cell_type": "code",
   "execution_count": 7,
   "metadata": {},
   "outputs": [
    {
     "name": "stdout",
     "output_type": "stream",
     "text": [
      "[4, [3, [6, None, None], None], [1, [2, None, None], [7, [9, None, None], None]]]\n"
     ]
    },
    {
     "data": {
      "text/plain": [
       "[1, [2, None, None], [7, [9, None, None], None]]"
      ]
     },
     "execution_count": 7,
     "metadata": {},
     "output_type": "execute_result"
    }
   ],
   "source": [
    "a = Arbre(4)\n",
    "a.ajout_gauche(3)\n",
    "a.ajout_droit(1)\n",
    "a.droit.ajout_gauche(2)\n",
    "a.droit.ajout_droit(7)\n",
    "a.gauche.ajout_gauche(6)\n",
    "a.droit.droit.ajout_gauche(9)\n",
    "print(a.affiche())\n",
    "a.get_droit().affiche()"
   ]
  },
  {
   "cell_type": "code",
   "execution_count": 72,
   "metadata": {},
   "outputs": [],
   "source": [
    "class Arbre:\n",
    "    def __init__(self, etiquette):\n",
    "        self.etiquette = etiquette\n",
    "        self.gauche = None\n",
    "        self.droit = None\n",
    "    \n",
    "    def est_feuille(self):\n",
    "        if self.gauche==None and self.droit==None:\n",
    "            return True\n",
    "        else:\n",
    "            return False\n",
    "\n",
    "    def affiche(self):\n",
    "        \"\"\"permet d'afficher un arbre\"\"\"\n",
    "        if self==None:\n",
    "            return None\n",
    "        else :\n",
    "            return [self.etiquette,Arbre.affiche(self.gauche),Arbre.affiche(self.droit)]"
   ]
  },
  {
   "cell_type": "code",
   "execution_count": 91,
   "metadata": {},
   "outputs": [],
   "source": [
    "class Arbre:\n",
    "    def __init__(self, etiquette,gauche=None,droit=None):\n",
    "        self.etiquette = etiquette\n",
    "        self.gauche = None\n",
    "        self.droit = None\n",
    "    \n",
    "    def est_feuille(self):\n",
    "        if self.gauche==None and self.droit==None:\n",
    "            return True\n",
    "        else:\n",
    "            return False\n",
    "    \n",
    "    def arbre_digraph(self):\n",
    "        noeuds=[]\n",
    "        aretes=[]\n",
    "        if self!=None:\n",
    "            noeuds=[self.etiquette]\n",
    "            if self.gauche!=None:\n",
    "                aretes.append([self.etiquette,self.gauche.etiquette])\n",
    "                sag = Arbre(self.gauche)\n",
    "                pg = sag.arbre_digraph()\n",
    "                noeuds = noeuds + pg[0]\n",
    "                aretes = aretes + pg[1]\n",
    "            if self.droit!=None:\n",
    "                aretes.append([self.etiquette,self.droit.etiquette])\n",
    "                sad = Arbre(self.droit)\n",
    "                pd = sad.arbre_digraph()\n",
    "                noeuds = noeuds + pd[0]\n",
    "                aretes = aretes + pd[1]\n",
    "        return noeuds,aretes\n",
    "            \n",
    "    def affiche(self):\n",
    "        # création de l'objet graphviz qui sera renvoyé\n",
    "        img_arbre = Digraph()\n",
    "        noeuds, aretes = self.arbre_digraph()\n",
    "        for n in noeuds:\n",
    "            img_arbre.node(n,n)\n",
    "        for a in aretes:\n",
    "            img_arbre.edge(a[0],a[1])\n",
    "        return img_arbre\n",
    "        "
   ]
  },
  {
   "cell_type": "code",
   "execution_count": 92,
   "metadata": {},
   "outputs": [],
   "source": [
    "a = Arbre(4)\n",
    "a.gauche = Arbre(3)\n",
    "a.droit = Arbre(1)\n",
    "a.droit.gauche = Arbre(2)\n",
    "a.droit.droit = Arbre(7)\n",
    "a.gauche.gauche = Arbre(6)\n",
    "a.droit.droit.gauche = Arbre(9)"
   ]
  },
  {
   "cell_type": "code",
   "execution_count": 93,
   "metadata": {},
   "outputs": [
    {
     "ename": "TypeError",
     "evalue": "expected string or bytes-like object",
     "output_type": "error",
     "traceback": [
      "\u001b[0;31m---------------------------------------------------------------------------\u001b[0m",
      "\u001b[0;31mTypeError\u001b[0m                                 Traceback (most recent call last)",
      "Cell \u001b[0;32mIn [93], line 1\u001b[0m\n\u001b[0;32m----> 1\u001b[0m a\u001b[39m.\u001b[39;49maffiche()\n",
      "Cell \u001b[0;32mIn [91], line 37\u001b[0m, in \u001b[0;36mArbre.affiche\u001b[0;34m(self)\u001b[0m\n\u001b[1;32m     35\u001b[0m noeuds, aretes \u001b[39m=\u001b[39m \u001b[39mself\u001b[39m\u001b[39m.\u001b[39marbre_digraph()\n\u001b[1;32m     36\u001b[0m \u001b[39mfor\u001b[39;00m n \u001b[39min\u001b[39;00m noeuds:\n\u001b[0;32m---> 37\u001b[0m     img_arbre\u001b[39m.\u001b[39;49mnode(n,n)\n\u001b[1;32m     38\u001b[0m \u001b[39mfor\u001b[39;00m a \u001b[39min\u001b[39;00m aretes:\n\u001b[1;32m     39\u001b[0m     img_arbre\u001b[39m.\u001b[39medge(a[\u001b[39m0\u001b[39m],a[\u001b[39m1\u001b[39m])\n",
      "File \u001b[0;32m~/.local/lib/python3.10/site-packages/graphviz/_tools.py:171\u001b[0m, in \u001b[0;36mdeprecate_positional_args.<locals>.decorator.<locals>.wrapper\u001b[0;34m(*args, **kwargs)\u001b[0m\n\u001b[1;32m    162\u001b[0m     wanted \u001b[39m=\u001b[39m \u001b[39m'\u001b[39m\u001b[39m, \u001b[39m\u001b[39m'\u001b[39m\u001b[39m.\u001b[39mjoin(\u001b[39mf\u001b[39m\u001b[39m'\u001b[39m\u001b[39m{\u001b[39;00mname\u001b[39m}\u001b[39;00m\u001b[39m=\u001b[39m\u001b[39m{\u001b[39;00mvalue\u001b[39m!r}\u001b[39;00m\u001b[39m'\u001b[39m\n\u001b[1;32m    163\u001b[0m                        \u001b[39mfor\u001b[39;00m name, value \u001b[39min\u001b[39;00m deprecated\u001b[39m.\u001b[39mitems())\n\u001b[1;32m    164\u001b[0m     warnings\u001b[39m.\u001b[39mwarn(\u001b[39mf\u001b[39m\u001b[39m'\u001b[39m\u001b[39mThe signature of \u001b[39m\u001b[39m{\u001b[39;00mfunc\u001b[39m.\u001b[39m\u001b[39m__name__\u001b[39m\u001b[39m}\u001b[39;00m\u001b[39m will be reduced\u001b[39m\u001b[39m'\u001b[39m\n\u001b[1;32m    165\u001b[0m                   \u001b[39mf\u001b[39m\u001b[39m'\u001b[39m\u001b[39m to \u001b[39m\u001b[39m{\u001b[39;00msupported_number\u001b[39m}\u001b[39;00m\u001b[39m positional args\u001b[39m\u001b[39m'\u001b[39m\n\u001b[1;32m    166\u001b[0m                   \u001b[39mf\u001b[39m\u001b[39m'\u001b[39m\u001b[39m \u001b[39m\u001b[39m{\u001b[39;00m\u001b[39mlist\u001b[39m(supported)\u001b[39m}\u001b[39;00m\u001b[39m: pass \u001b[39m\u001b[39m{\u001b[39;00mwanted\u001b[39m}\u001b[39;00m\u001b[39m'\u001b[39m\n\u001b[1;32m    167\u001b[0m                   \u001b[39m'\u001b[39m\u001b[39m as keyword arg(s)\u001b[39m\u001b[39m'\u001b[39m,\n\u001b[1;32m    168\u001b[0m                   stacklevel\u001b[39m=\u001b[39mstacklevel,\n\u001b[1;32m    169\u001b[0m                   category\u001b[39m=\u001b[39mcategory)\n\u001b[0;32m--> 171\u001b[0m \u001b[39mreturn\u001b[39;00m func(\u001b[39m*\u001b[39;49margs, \u001b[39m*\u001b[39;49m\u001b[39m*\u001b[39;49mkwargs)\n",
      "File \u001b[0;32m~/.local/lib/python3.10/site-packages/graphviz/dot.py:195\u001b[0m, in \u001b[0;36mDot.node\u001b[0;34m(self, name, label, _attributes, **attrs)\u001b[0m\n\u001b[1;32m    184\u001b[0m \u001b[39m@_tools\u001b[39m\u001b[39m.\u001b[39mdeprecate_positional_args(supported_number\u001b[39m=\u001b[39m\u001b[39m3\u001b[39m)\n\u001b[1;32m    185\u001b[0m \u001b[39mdef\u001b[39;00m \u001b[39mnode\u001b[39m(\u001b[39mself\u001b[39m, name: \u001b[39mstr\u001b[39m,\n\u001b[1;32m    186\u001b[0m          label: typing\u001b[39m.\u001b[39mOptional[\u001b[39mstr\u001b[39m] \u001b[39m=\u001b[39m \u001b[39mNone\u001b[39;00m,\n\u001b[1;32m    187\u001b[0m          _attributes\u001b[39m=\u001b[39m\u001b[39mNone\u001b[39;00m, \u001b[39m*\u001b[39m\u001b[39m*\u001b[39mattrs) \u001b[39m-\u001b[39m\u001b[39m>\u001b[39m \u001b[39mNone\u001b[39;00m:\n\u001b[1;32m    188\u001b[0m     \u001b[39m\"\"\"Create a node.\u001b[39;00m\n\u001b[1;32m    189\u001b[0m \n\u001b[1;32m    190\u001b[0m \u001b[39m    Args:\u001b[39;00m\n\u001b[0;32m   (...)\u001b[0m\n\u001b[1;32m    193\u001b[0m \u001b[39m        attrs: Any additional node attributes (must be strings).\u001b[39;00m\n\u001b[1;32m    194\u001b[0m \u001b[39m    \"\"\"\u001b[39;00m\n\u001b[0;32m--> 195\u001b[0m     name \u001b[39m=\u001b[39m \u001b[39mself\u001b[39;49m\u001b[39m.\u001b[39;49m_quote(name)\n\u001b[1;32m    196\u001b[0m     attr_list \u001b[39m=\u001b[39m \u001b[39mself\u001b[39m\u001b[39m.\u001b[39m_attr_list(label, kwargs\u001b[39m=\u001b[39mattrs, attributes\u001b[39m=\u001b[39m_attributes)\n\u001b[1;32m    197\u001b[0m     line \u001b[39m=\u001b[39m \u001b[39mself\u001b[39m\u001b[39m.\u001b[39m_node(name, attr_list)\n",
      "File \u001b[0;32m~/.local/lib/python3.10/site-packages/graphviz/_tools.py:171\u001b[0m, in \u001b[0;36mdeprecate_positional_args.<locals>.decorator.<locals>.wrapper\u001b[0;34m(*args, **kwargs)\u001b[0m\n\u001b[1;32m    162\u001b[0m     wanted \u001b[39m=\u001b[39m \u001b[39m'\u001b[39m\u001b[39m, \u001b[39m\u001b[39m'\u001b[39m\u001b[39m.\u001b[39mjoin(\u001b[39mf\u001b[39m\u001b[39m'\u001b[39m\u001b[39m{\u001b[39;00mname\u001b[39m}\u001b[39;00m\u001b[39m=\u001b[39m\u001b[39m{\u001b[39;00mvalue\u001b[39m!r}\u001b[39;00m\u001b[39m'\u001b[39m\n\u001b[1;32m    163\u001b[0m                        \u001b[39mfor\u001b[39;00m name, value \u001b[39min\u001b[39;00m deprecated\u001b[39m.\u001b[39mitems())\n\u001b[1;32m    164\u001b[0m     warnings\u001b[39m.\u001b[39mwarn(\u001b[39mf\u001b[39m\u001b[39m'\u001b[39m\u001b[39mThe signature of \u001b[39m\u001b[39m{\u001b[39;00mfunc\u001b[39m.\u001b[39m\u001b[39m__name__\u001b[39m\u001b[39m}\u001b[39;00m\u001b[39m will be reduced\u001b[39m\u001b[39m'\u001b[39m\n\u001b[1;32m    165\u001b[0m                   \u001b[39mf\u001b[39m\u001b[39m'\u001b[39m\u001b[39m to \u001b[39m\u001b[39m{\u001b[39;00msupported_number\u001b[39m}\u001b[39;00m\u001b[39m positional args\u001b[39m\u001b[39m'\u001b[39m\n\u001b[1;32m    166\u001b[0m                   \u001b[39mf\u001b[39m\u001b[39m'\u001b[39m\u001b[39m \u001b[39m\u001b[39m{\u001b[39;00m\u001b[39mlist\u001b[39m(supported)\u001b[39m}\u001b[39;00m\u001b[39m: pass \u001b[39m\u001b[39m{\u001b[39;00mwanted\u001b[39m}\u001b[39;00m\u001b[39m'\u001b[39m\n\u001b[1;32m    167\u001b[0m                   \u001b[39m'\u001b[39m\u001b[39m as keyword arg(s)\u001b[39m\u001b[39m'\u001b[39m,\n\u001b[1;32m    168\u001b[0m                   stacklevel\u001b[39m=\u001b[39mstacklevel,\n\u001b[1;32m    169\u001b[0m                   category\u001b[39m=\u001b[39mcategory)\n\u001b[0;32m--> 171\u001b[0m \u001b[39mreturn\u001b[39;00m func(\u001b[39m*\u001b[39;49margs, \u001b[39m*\u001b[39;49m\u001b[39m*\u001b[39;49mkwargs)\n",
      "File \u001b[0;32m~/.local/lib/python3.10/site-packages/graphviz/quoting.py:82\u001b[0m, in \u001b[0;36mquote\u001b[0;34m(identifier, is_html_string, is_valid_id, dot_keywords, endswith_odd_number_of_backslashes, escape_unescaped_quotes)\u001b[0m\n\u001b[1;32m     40\u001b[0m \u001b[39m@_tools\u001b[39m\u001b[39m.\u001b[39mdeprecate_positional_args(supported_number\u001b[39m=\u001b[39m\u001b[39m1\u001b[39m)\n\u001b[1;32m     41\u001b[0m \u001b[39mdef\u001b[39;00m \u001b[39mquote\u001b[39m(identifier: \u001b[39mstr\u001b[39m,\n\u001b[1;32m     42\u001b[0m           is_html_string\u001b[39m=\u001b[39mHTML_STRING\u001b[39m.\u001b[39mmatch,\n\u001b[0;32m   (...)\u001b[0m\n\u001b[1;32m     45\u001b[0m           endswith_odd_number_of_backslashes\u001b[39m=\u001b[39mFINAL_ODD_BACKSLASHES\u001b[39m.\u001b[39msearch,\n\u001b[1;32m     46\u001b[0m           escape_unescaped_quotes\u001b[39m=\u001b[39mESCAPE_UNESCAPED_QUOTES) \u001b[39m-\u001b[39m\u001b[39m>\u001b[39m \u001b[39mstr\u001b[39m:\n\u001b[1;32m     47\u001b[0m     \u001b[39mr\u001b[39m\u001b[39m\"\"\"Return DOT identifier from string, quote if needed.\u001b[39;00m\n\u001b[1;32m     48\u001b[0m \n\u001b[1;32m     49\u001b[0m \u001b[39m    >>> quote('')  # doctest: +NO_EXE\u001b[39;00m\n\u001b[0;32m   (...)\u001b[0m\n\u001b[1;32m     80\u001b[0m \u001b[39m    \"\\\\\\\"\"\u001b[39;00m\n\u001b[1;32m     81\u001b[0m \u001b[39m    \"\"\"\u001b[39;00m\n\u001b[0;32m---> 82\u001b[0m     \u001b[39mif\u001b[39;00m is_html_string(identifier) \u001b[39mand\u001b[39;00m \u001b[39mnot\u001b[39;00m \u001b[39misinstance\u001b[39m(identifier, NoHtml):\n\u001b[1;32m     83\u001b[0m         \u001b[39mpass\u001b[39;00m\n\u001b[1;32m     84\u001b[0m     \u001b[39melif\u001b[39;00m \u001b[39mnot\u001b[39;00m is_valid_id(identifier) \u001b[39mor\u001b[39;00m identifier\u001b[39m.\u001b[39mlower() \u001b[39min\u001b[39;00m dot_keywords:\n",
      "\u001b[0;31mTypeError\u001b[0m: expected string or bytes-like object"
     ]
    }
   ],
   "source": [
    "a.affiche()"
   ]
  },
  {
   "cell_type": "code",
   "execution_count": 94,
   "metadata": {},
   "outputs": [
    {
     "data": {
      "text/plain": [
       "2"
      ]
     },
     "execution_count": 94,
     "metadata": {},
     "output_type": "execute_result"
    }
   ],
   "source": [
    "a.droit.gauche.etiquette"
   ]
  },
  {
   "cell_type": "code",
   "execution_count": 95,
   "metadata": {},
   "outputs": [
    {
     "data": {
      "text/plain": [
       "True"
      ]
     },
     "execution_count": 95,
     "metadata": {},
     "output_type": "execute_result"
    }
   ],
   "source": [
    "a.droit.gauche.est_feuille()"
   ]
  },
  {
   "cell_type": "code",
   "execution_count": 96,
   "metadata": {},
   "outputs": [
    {
     "data": {
      "text/plain": [
       "True"
      ]
     },
     "execution_count": 96,
     "metadata": {},
     "output_type": "execute_result"
    }
   ],
   "source": [
    "a.droit.droit.gauche.est_feuille()"
   ]
  },
  {
   "cell_type": "code",
   "execution_count": 97,
   "metadata": {},
   "outputs": [
    {
     "data": {
      "text/plain": [
       "True"
      ]
     },
     "execution_count": 97,
     "metadata": {},
     "output_type": "execute_result"
    }
   ],
   "source": [
    "a.droit.gauche.est_feuille()"
   ]
  },
  {
   "cell_type": "code",
   "execution_count": null,
   "metadata": {},
   "outputs": [],
   "source": [
    "class Noeud:\n",
    "    def __init__(self, etiquette,gauche=None,droit=None):\n",
    "        self.etiquette = etiquette\n",
    "        self.gauche = None\n",
    "        self.droit = None"
   ]
  },
  {
   "cell_type": "code",
   "execution_count": 66,
   "metadata": {},
   "outputs": [],
   "source": [
    "class ArbreBinaire:\n",
    "    \n",
    "    def __init__(self,racine):\n",
    "        # racine est soit None (arbre vide) soit un objet de la classe noeud\n",
    "        self.racine=racine\n",
    "\n",
    "    def affiche(self):\n",
    "        \"\"\"permet d'afficher un arbre\"\"\"\n",
    "        if self==None:\n",
    "            return None\n",
    "        else :\n",
    "            return [self.racine.etiquette,ArbreBinaire.affiche(self.racine.gauche),ArbreBinaire.affiche(self.racine.droit)]"
   ]
  },
  {
   "cell_type": "code",
   "execution_count": 67,
   "metadata": {},
   "outputs": [],
   "source": [
    "C = Noeud(\"C\")\n",
    "D = Noeud(\"D\")\n",
    "F = Noeud(\"F\")"
   ]
  },
  {
   "cell_type": "code",
   "execution_count": 68,
   "metadata": {},
   "outputs": [],
   "source": [
    "# On peut à présent \"remonter\" dans l'arbre et déclarer les noeuds parents\n",
    "E = Noeud(\"E\",F)\n",
    "B = Noeud(\"B\",D,E)"
   ]
  },
  {
   "cell_type": "code",
   "execution_count": 69,
   "metadata": {},
   "outputs": [],
   "source": [
    "A=Noeud('A',B,C)"
   ]
  },
  {
   "cell_type": "code",
   "execution_count": 70,
   "metadata": {},
   "outputs": [],
   "source": [
    "A1=ArbreBinaire(A)"
   ]
  },
  {
   "cell_type": "code",
   "execution_count": 71,
   "metadata": {},
   "outputs": [
    {
     "name": "stdout",
     "output_type": "stream",
     "text": [
      "['A', None, None]\n"
     ]
    }
   ],
   "source": [
    "print(A1.affiche())"
   ]
  },
  {
   "cell_type": "code",
   "execution_count": null,
   "metadata": {},
   "outputs": [],
   "source": []
  }
 ],
 "metadata": {
  "kernelspec": {
   "display_name": "Python 3.10.7 64-bit",
   "language": "python",
   "name": "python3"
  },
  "language_info": {
   "codemirror_mode": {
    "name": "ipython",
    "version": 3
   },
   "file_extension": ".py",
   "mimetype": "text/x-python",
   "name": "python",
   "nbconvert_exporter": "python",
   "pygments_lexer": "ipython3",
   "version": "3.10.7"
  },
  "orig_nbformat": 4,
  "vscode": {
   "interpreter": {
    "hash": "916dbcbb3f70747c44a77c7bcd40155683ae19c65e1c03b4aa3499c5328201f1"
   }
  }
 },
 "nbformat": 4,
 "nbformat_minor": 2
}
